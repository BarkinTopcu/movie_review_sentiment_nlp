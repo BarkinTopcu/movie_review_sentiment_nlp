{
  "nbformat": 4,
  "nbformat_minor": 0,
  "metadata": {
    "colab": {
      "provenance": [],
      "machine_shape": "hm"
    },
    "kernelspec": {
      "name": "python3",
      "display_name": "Python 3"
    },
    "language_info": {
      "name": "python"
    }
  },
  "cells": [
    {
      "cell_type": "markdown",
      "source": [
        "# Sentiment Analysis on the IMDB Dataset with XGBoost\n",
        "\n",
        "This notebook demonstrates binary sentiment classification on movie reviews using the XGBoost algorithm and various machine learning techniques.\n",
        "\n",
        "**Dataset Information:**  \n",
        "The dataset used in this notebook is the [\"IMDB Dataset of 50K Movie Reviews\"](https://www.kaggle.com/datasets/lakshmi25npathi/imdb-dataset-of-50k-movie-reviews) by lakshmi25npathi, which contains 50,000 labeled movie reviews for binary sentiment classification (positive/negative).\n",
        "\n",
        "**Preprocessing:**  \n",
        "The preprocessed dataset used here can be obtained as the output of the `MRA_Preprocessing` notebook. The original raw data can be found at the Kaggle link above.\n",
        "\n",
        "**Techniques and Libraries Used:**  \n",
        "- **XGBoost:** For classification.\n",
        "- **K-Fold Cross Validation:** For robust evaluation.\n",
        "- **scikit-learn:** For model selection, evaluation, and preprocessing.\n",
        "- **pandas & numpy:** For data manipulation and analysis.\n",
        "\n",
        "---"
      ],
      "metadata": {
        "id": "m_J-meeoNWbb"
      }
    },
    {
      "cell_type": "code",
      "source": [
        "!pip install gensim"
      ],
      "metadata": {
        "collapsed": true,
        "id": "fBZPCnjL1s6g"
      },
      "execution_count": null,
      "outputs": []
    },
    {
      "cell_type": "code",
      "execution_count": 30,
      "metadata": {
        "id": "hxXJMTh0xvAd"
      },
      "outputs": [],
      "source": [
        "import numpy as np\n",
        "import pandas as pd\n",
        "from gensim.models import Word2Vec\n",
        "from xgboost import XGBClassifier\n",
        "from sklearn.model_selection import StratifiedKFold, RandomizedSearchCV\n",
        "from sklearn.pipeline import Pipeline\n",
        "from sklearn.preprocessing import StandardScaler\n",
        "from joblib import parallel_backend\n",
        "from sklearn.model_selection import train_test_split\n",
        "from tqdm.auto import tqdm\n",
        "from functools import partial\n",
        "import joblib\n",
        "import warnings\n",
        "warnings.filterwarnings('ignore')"
      ]
    },
    {
      "cell_type": "code",
      "source": [
        "data = pd.read_csv(\"movie_review_cleaned.csv\")"
      ],
      "metadata": {
        "id": "NV6xduHFzZi6"
      },
      "execution_count": 2,
      "outputs": []
    },
    {
      "cell_type": "code",
      "source": [
        "df = data.copy()"
      ],
      "metadata": {
        "id": "8Tziwrpbzfg7"
      },
      "execution_count": 3,
      "outputs": []
    },
    {
      "cell_type": "code",
      "source": [
        "df"
      ],
      "metadata": {
        "colab": {
          "base_uri": "https://localhost:8080/",
          "height": 424
        },
        "id": "X987grv3zmL6",
        "outputId": "10bde3f7-742e-42b9-b2c2-7f6c0cefa562"
      },
      "execution_count": 4,
      "outputs": [
        {
          "output_type": "execute_result",
          "data": {
            "text/plain": [
              "                                                  review sentiment  \\\n",
              "0      one reviewers mentioned watching episode 'll h...  positive   \n",
              "1      wonderful little production filming technique ...  positive   \n",
              "2      thought wonderful way spend time hot summer we...  positive   \n",
              "3      basically family little boy jake thinks zombie...  negative   \n",
              "4      petter matters love time money visually stunni...  positive   \n",
              "...                                                  ...       ...   \n",
              "49995  thought movie right good job want creative ori...  positive   \n",
              "49996  bad plot bad dialogue bad acting idiotic direc...  negative   \n",
              "49997  catholic taught parochial elementary schools n...  negative   \n",
              "49998  going disagree previous comment side martin on...  negative   \n",
              "49999  one expects star trek movies high art fans exp...  negative   \n",
              "\n",
              "                                                  tokens  \\\n",
              "0      ['one', 'reviewers', 'mentioned', 'watching', ...   \n",
              "1      ['wonderful', 'little', 'production', 'filming...   \n",
              "2      ['thought', 'wonderful', 'way', 'spend', 'time...   \n",
              "3      ['basically', 'family', 'little', 'boy', 'jake...   \n",
              "4      ['petter', 'matters', 'love', 'time', 'money',...   \n",
              "...                                                  ...   \n",
              "49995  ['thought', 'movie', 'right', 'good', 'job', '...   \n",
              "49996  ['bad', 'plot', 'bad', 'dialogue', 'bad', 'act...   \n",
              "49997  ['catholic', 'taught', 'parochial', 'elementar...   \n",
              "49998  ['going', 'disagree', 'previous', 'comment', '...   \n",
              "49999  ['one', 'expects', 'star', 'trek', 'movies', '...   \n",
              "\n",
              "                                                  lemmas  \n",
              "0      ['one', 'reviewer', 'mention', 'watch', 'episo...  \n",
              "1      ['wonderful', 'little', 'production', 'filming...  \n",
              "2      ['think', 'wonderful', 'way', 'spend', 'time',...  \n",
              "3      ['basically', 'family', 'little', 'boy', 'jake...  \n",
              "4      ['petter', 'matter', 'love', 'time', 'money', ...  \n",
              "...                                                  ...  \n",
              "49995  ['thought', 'movie', 'right', 'good', 'job', '...  \n",
              "49996  ['bad', 'plot', 'bad', 'dialogue', 'bad', 'act...  \n",
              "49997  ['catholic', 'teach', 'parochial', 'elementary...  \n",
              "49998  ['go', 'disagree', 'previous', 'comment', 'sid...  \n",
              "49999  ['one', 'expect', 'star', 'trek', 'movie', 'hi...  \n",
              "\n",
              "[50000 rows x 4 columns]"
            ],
            "text/html": [
              "\n",
              "  <div id=\"df-b8ff238f-5da8-43e6-a9d3-7d9ad22cee7f\" class=\"colab-df-container\">\n",
              "    <div>\n",
              "<style scoped>\n",
              "    .dataframe tbody tr th:only-of-type {\n",
              "        vertical-align: middle;\n",
              "    }\n",
              "\n",
              "    .dataframe tbody tr th {\n",
              "        vertical-align: top;\n",
              "    }\n",
              "\n",
              "    .dataframe thead th {\n",
              "        text-align: right;\n",
              "    }\n",
              "</style>\n",
              "<table border=\"1\" class=\"dataframe\">\n",
              "  <thead>\n",
              "    <tr style=\"text-align: right;\">\n",
              "      <th></th>\n",
              "      <th>review</th>\n",
              "      <th>sentiment</th>\n",
              "      <th>tokens</th>\n",
              "      <th>lemmas</th>\n",
              "    </tr>\n",
              "  </thead>\n",
              "  <tbody>\n",
              "    <tr>\n",
              "      <th>0</th>\n",
              "      <td>one reviewers mentioned watching episode 'll h...</td>\n",
              "      <td>positive</td>\n",
              "      <td>['one', 'reviewers', 'mentioned', 'watching', ...</td>\n",
              "      <td>['one', 'reviewer', 'mention', 'watch', 'episo...</td>\n",
              "    </tr>\n",
              "    <tr>\n",
              "      <th>1</th>\n",
              "      <td>wonderful little production filming technique ...</td>\n",
              "      <td>positive</td>\n",
              "      <td>['wonderful', 'little', 'production', 'filming...</td>\n",
              "      <td>['wonderful', 'little', 'production', 'filming...</td>\n",
              "    </tr>\n",
              "    <tr>\n",
              "      <th>2</th>\n",
              "      <td>thought wonderful way spend time hot summer we...</td>\n",
              "      <td>positive</td>\n",
              "      <td>['thought', 'wonderful', 'way', 'spend', 'time...</td>\n",
              "      <td>['think', 'wonderful', 'way', 'spend', 'time',...</td>\n",
              "    </tr>\n",
              "    <tr>\n",
              "      <th>3</th>\n",
              "      <td>basically family little boy jake thinks zombie...</td>\n",
              "      <td>negative</td>\n",
              "      <td>['basically', 'family', 'little', 'boy', 'jake...</td>\n",
              "      <td>['basically', 'family', 'little', 'boy', 'jake...</td>\n",
              "    </tr>\n",
              "    <tr>\n",
              "      <th>4</th>\n",
              "      <td>petter matters love time money visually stunni...</td>\n",
              "      <td>positive</td>\n",
              "      <td>['petter', 'matters', 'love', 'time', 'money',...</td>\n",
              "      <td>['petter', 'matter', 'love', 'time', 'money', ...</td>\n",
              "    </tr>\n",
              "    <tr>\n",
              "      <th>...</th>\n",
              "      <td>...</td>\n",
              "      <td>...</td>\n",
              "      <td>...</td>\n",
              "      <td>...</td>\n",
              "    </tr>\n",
              "    <tr>\n",
              "      <th>49995</th>\n",
              "      <td>thought movie right good job want creative ori...</td>\n",
              "      <td>positive</td>\n",
              "      <td>['thought', 'movie', 'right', 'good', 'job', '...</td>\n",
              "      <td>['thought', 'movie', 'right', 'good', 'job', '...</td>\n",
              "    </tr>\n",
              "    <tr>\n",
              "      <th>49996</th>\n",
              "      <td>bad plot bad dialogue bad acting idiotic direc...</td>\n",
              "      <td>negative</td>\n",
              "      <td>['bad', 'plot', 'bad', 'dialogue', 'bad', 'act...</td>\n",
              "      <td>['bad', 'plot', 'bad', 'dialogue', 'bad', 'act...</td>\n",
              "    </tr>\n",
              "    <tr>\n",
              "      <th>49997</th>\n",
              "      <td>catholic taught parochial elementary schools n...</td>\n",
              "      <td>negative</td>\n",
              "      <td>['catholic', 'taught', 'parochial', 'elementar...</td>\n",
              "      <td>['catholic', 'teach', 'parochial', 'elementary...</td>\n",
              "    </tr>\n",
              "    <tr>\n",
              "      <th>49998</th>\n",
              "      <td>going disagree previous comment side martin on...</td>\n",
              "      <td>negative</td>\n",
              "      <td>['going', 'disagree', 'previous', 'comment', '...</td>\n",
              "      <td>['go', 'disagree', 'previous', 'comment', 'sid...</td>\n",
              "    </tr>\n",
              "    <tr>\n",
              "      <th>49999</th>\n",
              "      <td>one expects star trek movies high art fans exp...</td>\n",
              "      <td>negative</td>\n",
              "      <td>['one', 'expects', 'star', 'trek', 'movies', '...</td>\n",
              "      <td>['one', 'expect', 'star', 'trek', 'movie', 'hi...</td>\n",
              "    </tr>\n",
              "  </tbody>\n",
              "</table>\n",
              "<p>50000 rows × 4 columns</p>\n",
              "</div>\n",
              "    <div class=\"colab-df-buttons\">\n",
              "\n",
              "  <div class=\"colab-df-container\">\n",
              "    <button class=\"colab-df-convert\" onclick=\"convertToInteractive('df-b8ff238f-5da8-43e6-a9d3-7d9ad22cee7f')\"\n",
              "            title=\"Convert this dataframe to an interactive table.\"\n",
              "            style=\"display:none;\">\n",
              "\n",
              "  <svg xmlns=\"http://www.w3.org/2000/svg\" height=\"24px\" viewBox=\"0 -960 960 960\">\n",
              "    <path d=\"M120-120v-720h720v720H120Zm60-500h600v-160H180v160Zm220 220h160v-160H400v160Zm0 220h160v-160H400v160ZM180-400h160v-160H180v160Zm440 0h160v-160H620v160ZM180-180h160v-160H180v160Zm440 0h160v-160H620v160Z\"/>\n",
              "  </svg>\n",
              "    </button>\n",
              "\n",
              "  <style>\n",
              "    .colab-df-container {\n",
              "      display:flex;\n",
              "      gap: 12px;\n",
              "    }\n",
              "\n",
              "    .colab-df-convert {\n",
              "      background-color: #E8F0FE;\n",
              "      border: none;\n",
              "      border-radius: 50%;\n",
              "      cursor: pointer;\n",
              "      display: none;\n",
              "      fill: #1967D2;\n",
              "      height: 32px;\n",
              "      padding: 0 0 0 0;\n",
              "      width: 32px;\n",
              "    }\n",
              "\n",
              "    .colab-df-convert:hover {\n",
              "      background-color: #E2EBFA;\n",
              "      box-shadow: 0px 1px 2px rgba(60, 64, 67, 0.3), 0px 1px 3px 1px rgba(60, 64, 67, 0.15);\n",
              "      fill: #174EA6;\n",
              "    }\n",
              "\n",
              "    .colab-df-buttons div {\n",
              "      margin-bottom: 4px;\n",
              "    }\n",
              "\n",
              "    [theme=dark] .colab-df-convert {\n",
              "      background-color: #3B4455;\n",
              "      fill: #D2E3FC;\n",
              "    }\n",
              "\n",
              "    [theme=dark] .colab-df-convert:hover {\n",
              "      background-color: #434B5C;\n",
              "      box-shadow: 0px 1px 3px 1px rgba(0, 0, 0, 0.15);\n",
              "      filter: drop-shadow(0px 1px 2px rgba(0, 0, 0, 0.3));\n",
              "      fill: #FFFFFF;\n",
              "    }\n",
              "  </style>\n",
              "\n",
              "    <script>\n",
              "      const buttonEl =\n",
              "        document.querySelector('#df-b8ff238f-5da8-43e6-a9d3-7d9ad22cee7f button.colab-df-convert');\n",
              "      buttonEl.style.display =\n",
              "        google.colab.kernel.accessAllowed ? 'block' : 'none';\n",
              "\n",
              "      async function convertToInteractive(key) {\n",
              "        const element = document.querySelector('#df-b8ff238f-5da8-43e6-a9d3-7d9ad22cee7f');\n",
              "        const dataTable =\n",
              "          await google.colab.kernel.invokeFunction('convertToInteractive',\n",
              "                                                    [key], {});\n",
              "        if (!dataTable) return;\n",
              "\n",
              "        const docLinkHtml = 'Like what you see? Visit the ' +\n",
              "          '<a target=\"_blank\" href=https://colab.research.google.com/notebooks/data_table.ipynb>data table notebook</a>'\n",
              "          + ' to learn more about interactive tables.';\n",
              "        element.innerHTML = '';\n",
              "        dataTable['output_type'] = 'display_data';\n",
              "        await google.colab.output.renderOutput(dataTable, element);\n",
              "        const docLink = document.createElement('div');\n",
              "        docLink.innerHTML = docLinkHtml;\n",
              "        element.appendChild(docLink);\n",
              "      }\n",
              "    </script>\n",
              "  </div>\n",
              "\n",
              "\n",
              "    <div id=\"df-498b5ce3-1705-4940-a9d0-538567aeddb5\">\n",
              "      <button class=\"colab-df-quickchart\" onclick=\"quickchart('df-498b5ce3-1705-4940-a9d0-538567aeddb5')\"\n",
              "                title=\"Suggest charts\"\n",
              "                style=\"display:none;\">\n",
              "\n",
              "<svg xmlns=\"http://www.w3.org/2000/svg\" height=\"24px\"viewBox=\"0 0 24 24\"\n",
              "     width=\"24px\">\n",
              "    <g>\n",
              "        <path d=\"M19 3H5c-1.1 0-2 .9-2 2v14c0 1.1.9 2 2 2h14c1.1 0 2-.9 2-2V5c0-1.1-.9-2-2-2zM9 17H7v-7h2v7zm4 0h-2V7h2v10zm4 0h-2v-4h2v4z\"/>\n",
              "    </g>\n",
              "</svg>\n",
              "      </button>\n",
              "\n",
              "<style>\n",
              "  .colab-df-quickchart {\n",
              "      --bg-color: #E8F0FE;\n",
              "      --fill-color: #1967D2;\n",
              "      --hover-bg-color: #E2EBFA;\n",
              "      --hover-fill-color: #174EA6;\n",
              "      --disabled-fill-color: #AAA;\n",
              "      --disabled-bg-color: #DDD;\n",
              "  }\n",
              "\n",
              "  [theme=dark] .colab-df-quickchart {\n",
              "      --bg-color: #3B4455;\n",
              "      --fill-color: #D2E3FC;\n",
              "      --hover-bg-color: #434B5C;\n",
              "      --hover-fill-color: #FFFFFF;\n",
              "      --disabled-bg-color: #3B4455;\n",
              "      --disabled-fill-color: #666;\n",
              "  }\n",
              "\n",
              "  .colab-df-quickchart {\n",
              "    background-color: var(--bg-color);\n",
              "    border: none;\n",
              "    border-radius: 50%;\n",
              "    cursor: pointer;\n",
              "    display: none;\n",
              "    fill: var(--fill-color);\n",
              "    height: 32px;\n",
              "    padding: 0;\n",
              "    width: 32px;\n",
              "  }\n",
              "\n",
              "  .colab-df-quickchart:hover {\n",
              "    background-color: var(--hover-bg-color);\n",
              "    box-shadow: 0 1px 2px rgba(60, 64, 67, 0.3), 0 1px 3px 1px rgba(60, 64, 67, 0.15);\n",
              "    fill: var(--button-hover-fill-color);\n",
              "  }\n",
              "\n",
              "  .colab-df-quickchart-complete:disabled,\n",
              "  .colab-df-quickchart-complete:disabled:hover {\n",
              "    background-color: var(--disabled-bg-color);\n",
              "    fill: var(--disabled-fill-color);\n",
              "    box-shadow: none;\n",
              "  }\n",
              "\n",
              "  .colab-df-spinner {\n",
              "    border: 2px solid var(--fill-color);\n",
              "    border-color: transparent;\n",
              "    border-bottom-color: var(--fill-color);\n",
              "    animation:\n",
              "      spin 1s steps(1) infinite;\n",
              "  }\n",
              "\n",
              "  @keyframes spin {\n",
              "    0% {\n",
              "      border-color: transparent;\n",
              "      border-bottom-color: var(--fill-color);\n",
              "      border-left-color: var(--fill-color);\n",
              "    }\n",
              "    20% {\n",
              "      border-color: transparent;\n",
              "      border-left-color: var(--fill-color);\n",
              "      border-top-color: var(--fill-color);\n",
              "    }\n",
              "    30% {\n",
              "      border-color: transparent;\n",
              "      border-left-color: var(--fill-color);\n",
              "      border-top-color: var(--fill-color);\n",
              "      border-right-color: var(--fill-color);\n",
              "    }\n",
              "    40% {\n",
              "      border-color: transparent;\n",
              "      border-right-color: var(--fill-color);\n",
              "      border-top-color: var(--fill-color);\n",
              "    }\n",
              "    60% {\n",
              "      border-color: transparent;\n",
              "      border-right-color: var(--fill-color);\n",
              "    }\n",
              "    80% {\n",
              "      border-color: transparent;\n",
              "      border-right-color: var(--fill-color);\n",
              "      border-bottom-color: var(--fill-color);\n",
              "    }\n",
              "    90% {\n",
              "      border-color: transparent;\n",
              "      border-bottom-color: var(--fill-color);\n",
              "    }\n",
              "  }\n",
              "</style>\n",
              "\n",
              "      <script>\n",
              "        async function quickchart(key) {\n",
              "          const quickchartButtonEl =\n",
              "            document.querySelector('#' + key + ' button');\n",
              "          quickchartButtonEl.disabled = true;  // To prevent multiple clicks.\n",
              "          quickchartButtonEl.classList.add('colab-df-spinner');\n",
              "          try {\n",
              "            const charts = await google.colab.kernel.invokeFunction(\n",
              "                'suggestCharts', [key], {});\n",
              "          } catch (error) {\n",
              "            console.error('Error during call to suggestCharts:', error);\n",
              "          }\n",
              "          quickchartButtonEl.classList.remove('colab-df-spinner');\n",
              "          quickchartButtonEl.classList.add('colab-df-quickchart-complete');\n",
              "        }\n",
              "        (() => {\n",
              "          let quickchartButtonEl =\n",
              "            document.querySelector('#df-498b5ce3-1705-4940-a9d0-538567aeddb5 button');\n",
              "          quickchartButtonEl.style.display =\n",
              "            google.colab.kernel.accessAllowed ? 'block' : 'none';\n",
              "        })();\n",
              "      </script>\n",
              "    </div>\n",
              "\n",
              "  <div id=\"id_a3a4982f-fc3d-4fb2-91de-b2b24b08399b\">\n",
              "    <style>\n",
              "      .colab-df-generate {\n",
              "        background-color: #E8F0FE;\n",
              "        border: none;\n",
              "        border-radius: 50%;\n",
              "        cursor: pointer;\n",
              "        display: none;\n",
              "        fill: #1967D2;\n",
              "        height: 32px;\n",
              "        padding: 0 0 0 0;\n",
              "        width: 32px;\n",
              "      }\n",
              "\n",
              "      .colab-df-generate:hover {\n",
              "        background-color: #E2EBFA;\n",
              "        box-shadow: 0px 1px 2px rgba(60, 64, 67, 0.3), 0px 1px 3px 1px rgba(60, 64, 67, 0.15);\n",
              "        fill: #174EA6;\n",
              "      }\n",
              "\n",
              "      [theme=dark] .colab-df-generate {\n",
              "        background-color: #3B4455;\n",
              "        fill: #D2E3FC;\n",
              "      }\n",
              "\n",
              "      [theme=dark] .colab-df-generate:hover {\n",
              "        background-color: #434B5C;\n",
              "        box-shadow: 0px 1px 3px 1px rgba(0, 0, 0, 0.15);\n",
              "        filter: drop-shadow(0px 1px 2px rgba(0, 0, 0, 0.3));\n",
              "        fill: #FFFFFF;\n",
              "      }\n",
              "    </style>\n",
              "    <button class=\"colab-df-generate\" onclick=\"generateWithVariable('df')\"\n",
              "            title=\"Generate code using this dataframe.\"\n",
              "            style=\"display:none;\">\n",
              "\n",
              "  <svg xmlns=\"http://www.w3.org/2000/svg\" height=\"24px\"viewBox=\"0 0 24 24\"\n",
              "       width=\"24px\">\n",
              "    <path d=\"M7,19H8.4L18.45,9,17,7.55,7,17.6ZM5,21V16.75L18.45,3.32a2,2,0,0,1,2.83,0l1.4,1.43a1.91,1.91,0,0,1,.58,1.4,1.91,1.91,0,0,1-.58,1.4L9.25,21ZM18.45,9,17,7.55Zm-12,3A5.31,5.31,0,0,0,4.9,8.1,5.31,5.31,0,0,0,1,6.5,5.31,5.31,0,0,0,4.9,4.9,5.31,5.31,0,0,0,6.5,1,5.31,5.31,0,0,0,8.1,4.9,5.31,5.31,0,0,0,12,6.5,5.46,5.46,0,0,0,6.5,12Z\"/>\n",
              "  </svg>\n",
              "    </button>\n",
              "    <script>\n",
              "      (() => {\n",
              "      const buttonEl =\n",
              "        document.querySelector('#id_a3a4982f-fc3d-4fb2-91de-b2b24b08399b button.colab-df-generate');\n",
              "      buttonEl.style.display =\n",
              "        google.colab.kernel.accessAllowed ? 'block' : 'none';\n",
              "\n",
              "      buttonEl.onclick = () => {\n",
              "        google.colab.notebook.generateWithVariable('df');\n",
              "      }\n",
              "      })();\n",
              "    </script>\n",
              "  </div>\n",
              "\n",
              "    </div>\n",
              "  </div>\n"
            ],
            "application/vnd.google.colaboratory.intrinsic+json": {
              "type": "dataframe",
              "variable_name": "df",
              "summary": "{\n  \"name\": \"df\",\n  \"rows\": 50000,\n  \"fields\": [\n    {\n      \"column\": \"review\",\n      \"properties\": {\n        \"dtype\": \"string\",\n        \"num_unique_values\": 49572,\n        \"samples\": [\n          \"rented movie huge audi fan figured could n't bad boy wrong minute mark begging others let rip fling back rental store refused swore get better wrong movie lacking everything actors delivered lines much emotion comatose rock plot ridiculous offended hollywood assumed people dumb enough enjoy none characters interacted well ice gives one worst performances hereafter watching footage wrong plane bad guys standing get shot clips emptied missing everything wanted scream bang head concrete movie hit plateau ignorance people space station used elevator travel space suits needed gravity space regardless real astronauts may say didst finish movie hated done want finish movie slow suicide could feel cerebral cortex planning avenge torture put\",\n          \"watched let rephrase suffered fan evans done think flick shell put back head shot photos like gangsta fix want even close budget could n't hundred dollars money probably spent caterer premise interesting first victim died get chance care wont bother saying int worth effort glad monthly rental plan local video store didst actually pay garbage flame love movies thought lotta fix good jammed jam tells need know\",\n          \"good advert republicanism ever likely seepage rings everyday story royal folk late nineteenth century austria set one europe seemingly incessant internal turmoils concerns emperor franz joseph james mason rebellious crown prince rudolf omar shari empress miss ava gardner various mistresses secret policemenspiesextravagantlyuniformed popinjaysgypsiesdancerswives soldiers anchoress bizarre inbred web european royalty time franz josephs aust hungarian empire filmed old movie posters used call riot color resembles nothing expensively dressed intellectually challenged production student prince james mason wearing natty little white number utilises purpose matte european accent whenever remembers great admirer sincerely hope remuneration commensurate distaste clearly felt character playing omar shari built career largely founded looking directly camera big brown eyes looking soulful gives stupefying monotonous performance son crown prince utterly unconvincing man movie least cut swathe distaff side austrian aristocracy well uttered locks firmly place greens poses ever unlikely uniform rebel talks talk conspicuously fails walk walk leaving bottom button undone one tunics far defiance goes unhappily married falls love commoner forbidden love one movies common played uncommon miss catherine deserve scarcely pushing envelope miss deserve profile die see rather lot particularly sequence set ballet love ballet much next man sequence seem go excessive amount time cynical critic might consider padding rudolf mother empress played miss ava gardner gives part good old american room making bit like auntie mam done undeniable style rudolf certainly fond mother ill put strongly performance worth watching james robertson justice sir lancelot pratt sorryedwardprince wales wonderfully unconcerned everything going around joy behold waited vainly ask rudolf immortal question whats bleeding time qualified dispute mayer ling historical accuracy tin opinion everything else risible mauritanian opera buffy without tunes send home theatre whistling\"\n        ],\n        \"semantic_type\": \"\",\n        \"description\": \"\"\n      }\n    },\n    {\n      \"column\": \"sentiment\",\n      \"properties\": {\n        \"dtype\": \"category\",\n        \"num_unique_values\": 2,\n        \"samples\": [\n          \"negative\",\n          \"positive\"\n        ],\n        \"semantic_type\": \"\",\n        \"description\": \"\"\n      }\n    },\n    {\n      \"column\": \"tokens\",\n      \"properties\": {\n        \"dtype\": \"string\",\n        \"num_unique_values\": 49572,\n        \"samples\": [\n          \"['rented', 'movie', 'huge', 'audi', 'fan', 'figured', 'could', \\\"n't\\\", 'bad', 'boy', 'wrong', 'minute', 'mark', 'begging', 'others', 'let', 'rip', 'fling', 'back', 'rental', 'store', 'refused', 'swore', 'get', 'better', 'wrong', 'movie', 'lacking', 'everything', 'actors', 'delivered', 'lines', 'much', 'emotion', 'comatose', 'rock', 'plot', 'ridiculous', 'offended', 'hollywood', 'assumed', 'people', 'dumb', 'enough', 'enjoy', 'none', 'characters', 'interacted', 'well', 'ice', 'gives', 'one', 'worst', 'performances', 'hereafter', 'watching', 'footage', 'wrong', 'plane', 'bad', 'guys', 'standing', 'get', 'shot', 'clips', 'emptied', 'missing', 'everything', 'wanted', 'scream', 'bang', 'head', 'concrete', 'movie', 'hit', 'plateau', 'ignorance', 'people', 'space', 'station', 'used', 'elevator', 'travel', 'space', 'suits', 'needed', 'gravity', 'space', 'regardless', 'real', 'astronauts', 'may', 'say', 'didst', 'finish', 'movie', 'hated', 'done', 'want', 'finish', 'movie', 'slow', 'suicide', 'could', 'feel', 'cerebral', 'cortex', 'planning', 'avenge', 'torture', 'put']\",\n          \"['watched', 'let', 'rephrase', 'suffered', 'fan', 'evans', 'done', 'think', 'flick', 'shell', 'put', 'back', 'head', 'shot', 'photos', 'like', 'gangsta', 'fix', 'want', 'even', 'close', 'budget', 'could', \\\"n't\\\", 'hundred', 'dollars', 'money', 'probably', 'spent', 'caterer', 'premise', 'interesting', 'first', 'victim', 'died', 'get', 'chance', 'care', 'wont', 'bother', 'saying', 'int', 'worth', 'effort', 'glad', 'monthly', 'rental', 'plan', 'local', 'video', 'store', 'didst', 'actually', 'pay', 'garbage', 'flame', 'love', 'movies', 'thought', 'lotta', 'fix', 'good', 'jammed', 'jam', 'tells', 'need', 'know']\"\n        ],\n        \"semantic_type\": \"\",\n        \"description\": \"\"\n      }\n    },\n    {\n      \"column\": \"lemmas\",\n      \"properties\": {\n        \"dtype\": \"string\",\n        \"num_unique_values\": 49569,\n        \"samples\": [\n          \"['sex', 'merchant', 'seaman', 'really', 'interested', 'movie', 'personally', 'involve', 'stowaway', 'search', 'leave', 'kingston', 'jamaica', 'one', 'person', 'find', 'manage', 'get', 'ashore', 'though', 'territorial', 'limit', 'another', 'ship', 'stowaway', 'find', 'could', 'land', 'anywhere', 'due', 'passport', 'nationality', 'issue', 'fact', 'stay', 'year', 'almost', 'honorary', 'crew', 'member', 'work', 'keep', 'africa', 'notorious', 'stowaway', 'pickups', 'great', 'scene', 'begin', 'film', 'bulk', 'carrier', 'enter', 'african', 'port', 'size', 'dwarf', 'crew', 'pop', 'ashore', 'little', 'intercourse', 'inebriation', 'far', 'normal', 'drama', 'start', 'stowaway', 'enter', 'vast', 'cavernous', 'hold', 'ship', 'joss', 'auckland', 'brilliant', 'captain', 'drink', 'problem', 'harass', 'nemesis', 'sachet', 'right', 'form', 'company', 'representative', 'board', 'stowaway', 'search', 'classic', 'gun', 'question', 'use', 'gun', 'film', 'ship', 'seem', 'vast', 'armoury', 'experience', 'gun', 'sea', 'severely', 'restrict', 'due', 'custom', 'regulation', 'also', 'dog', 'board', 'odd', 'anti', 'rabie', 'law', 'especially', 'europe', 'restrict', 'carry', 'animal', 'severely', 'anyway', 'per', 'twee', 'brilliant', 'embitter', 'mate', 'horror', 'follow', 'discovery', 'victim', 'unbearable', 'grim', 'metallic', 'background', 'ship', 'hold', 'feel', 'hide', 'add', 'drama', 'freighter', 'crew', 'murder', 'get', 'involve', 'gradually', 'suck', 'world', 'violence', 'escape', 'chase', 'ship', 'especially', 'engine', 'room', 'scene', 'edge', 'seat', 'feeling', 'extreme', 'claustrophobia', 'abound', 'feel', 'metal', 'press', 'death', 'gun', 'barrel', 'away', 'film', 'brutal', 'girlfriend', 'give', 'watch', 'shooting', 'beat', 'scene', 'go', 'sachet', 'comfort', 'well', 'appoint', 'cabin', 'get', 'drunk', 'unaware', 'mayhem', 'deck', 'tense', 'film', 'flaw', 'part', 'real', 'message', 'get', 'suck', 'violence', 'like', 'slowly', 'surely', 'think', 'train', 'driver', 'take', 'jews', 'auschwitz', 'clerk', 'work', 'train', 'timetable', 'always', 'remember', 'someone', 'visit', 'dachau', 'concentration', 'camp', 'end', 'war', 'say', 'one', 'guard', 'put', 'bird', 'table', 'outside', 'camp', 'crematorium', 'film', 'like', 'ordinary', 'people', 'suddenly', 'find', 'world', 'unstoppable', 'violence']\",\n          \"['many', 'level', 'good', 'fact', 'consider', 'low', 'budget', 'british', 'indie', 'first', 'time', 'feature', 'director', 'largely', 'neophyte', 'cast', 'magnificent', 'achievement', 'do', 'know', 'much', 'cost', 'figure', 'bandy', 'publicity', 'never', 'know', 'reliable', 'figure', 'like', 'point', 'film', 'look', 'like', 'cost', 'couple', 'million', 'quid', 'clearly', 'cost', 'tiny', 'fraction', 'great', 'special', 'effect', 'terrific', 'production', 'design', 'effective', 'prop', 'costume', 'excellent', 'photography', 'good', 'acting', 'direction', 'impressive', 'score', 'absolutely', 'stunning', 'sound', 'mix', 'even', 'say', 'much', 'script', 'great', 'character', 'clearly', 'identify', 'something', 'movie', 'ten', 'man', 'dress', 'roughly', 'one', 'location', 'would', 'easy', 'nameless', 'faceless', 'blank', 'ten', 'character', 'mostly', 'do', 'dialogue', 'way', 'react', 'thing', 'throughout', 'middle', 'act', 'plot', 'develop', 'script', 'tell', 'story', 'well', 'show', 'affected', 'character', 'whole', 'film', 'like', 'second', 'act', 'would', 'stunning', 'ship', 'blow', 'twelve', 'people', 'make', 'individual', 'escape', 'pod', 'pod', 'blast', 'away', 'ship', 'much', 'automatic', 'metal', 'coffin', 'poor', 'sod', 'inside', 'trap', 'cramp', 'real', 'idea', 'go', 'make', 'sense', 'like', 'pod', 'excellent', 'idea', 'do', 'well', 'make', 'sense', 'nice', 'roomy', 'escape', 'capsule', 'also', 'like', 'way', 'specifically', 'tell', 'later', 'design', 'ship', 'ship', 'escape', 'make', 'planet', 'emergency', 'let', 'face', 'guy', 'bloody', 'lucky', 'ship', 'blow', 'close', 'planet', 'say', 'not', 'look', 'like', 'unused', 'pod', 'still', 'freighter', 'wonder', 'prisoner', 'able', 'get', 'ipod', 'get', 'occur', 'not', 'captain', 'go', 'ship', 'rather', 'first', 'guy', 'anyway', 'pod', 'land', 'barren', 'planet', 'nothing', 'sand', 'sparse', 'vegetation', 'least', 'sandy', 'sparsely', 'vegetate', 'part', 'planet', 'may', 'icy', 'waste', 'lush', 'jungle', 'elsewhere', 'nah', 'planet', 'sci', 'movie', 'exactly', 'accept', 'pod', 'come', 'within', 'mile', 'ten', 'survivor', 'able', 'meet', 'fire', 'flare', 'sky', 'locate', 'captain', 'muscular', 'mountain', 'man', 'could', 'pretty', 'good', 'career', 'action', 'flick', 'get', 'right', 'agent', 'decide', 'try', 'contact', 'captain', 'behan', 'intend', 'rendezvous', 'planet', 'need', 'get', 'orbit', 'engineer', 'say', 'combine', 'power', 'unit', 'two', 'pod', 'probably', 'give', 'one', 'enough', 'juice', 'lift', 'antigua', 'doodad', 'high', 'enough', 'blast', 'atmosphere', 'do', 'automatic', 'need', 'pilot', 'send', 'signal', 'captain', 'valiantly', 'volunteer', 'commendably', 'sensible', 'move', 'engineer', 'point', 'put', 'heavy', 'man', 'somewhat', 'bodily', 'repair', 'ipod', 'ridiculous', 'need', 'light', 'member', 'team', 'kid', 'really', 'like', 'way', 'point', 'name', 'david', 'captain', 'start', 'use', 'treat', 'dignity', 'respect', 'good', 'storytelle', 'good', 'characterisation']\"\n        ],\n        \"semantic_type\": \"\",\n        \"description\": \"\"\n      }\n    }\n  ]\n}"
            }
          },
          "metadata": {},
          "execution_count": 4
        }
      ]
    },
    {
      "cell_type": "code",
      "source": [
        "print(\"1. Data Preparation...\")\n",
        "with tqdm(total=3, desc=\"Preprocessing\") as pbar:\n",
        "    X = df['lemmas'].apply(eval)  # Convert stringified lists to actual lists\n",
        "    y = df['sentiment'].map({'positive': 1, 'negative': 0})\n",
        "    pbar.update(1)\n",
        "\n",
        "    # Handle missing values\n",
        "    X = X.fillna('').apply(list)\n",
        "    pbar.update(1)\n",
        "\n",
        "    # Verify data shapes\n",
        "    print(f\"\\nData shape: {X.shape}, Target shape: {y.shape}\")\n",
        "    pbar.update(1)"
      ],
      "metadata": {
        "colab": {
          "base_uri": "https://localhost:8080/",
          "height": 101,
          "referenced_widgets": [
            "cc17a947247544e2b80b32a259722f53",
            "35d80501576a48649a54e684cfa2b5b7",
            "35014d69b1da4aa0b0e2d81ff318c815",
            "2bae21097f874a77a1819aad2be5226b",
            "c18a22f672eb41cbbd3f9ae3572d39bd",
            "b9e3e6b210f84e8b9a79e701c5e9e194",
            "550497d564e14da183bd532c5e9b3a13",
            "457c7b5348404b46a4fb82822e856dc9",
            "b34d5bab03af44f1b825a68007573bed",
            "c7b90da2bdd549f9b8a2e026bd9ea039",
            "7f0f8aa623c2423fb738d90fa601b471"
          ]
        },
        "id": "CHKFkEPE2S2n",
        "outputId": "70470017-4eee-4afe-d73e-dd07176da9fb"
      },
      "execution_count": 5,
      "outputs": [
        {
          "output_type": "stream",
          "name": "stdout",
          "text": [
            "1. Data Preparation...\n"
          ]
        },
        {
          "output_type": "display_data",
          "data": {
            "text/plain": [
              "Preprocessing:   0%|          | 0/3 [00:00<?, ?it/s]"
            ],
            "application/vnd.jupyter.widget-view+json": {
              "version_major": 2,
              "version_minor": 0,
              "model_id": "cc17a947247544e2b80b32a259722f53"
            }
          },
          "metadata": {}
        },
        {
          "output_type": "stream",
          "name": "stdout",
          "text": [
            "\n",
            "Data shape: (50000,), Target shape: (50000,)\n"
          ]
        }
      ]
    },
    {
      "cell_type": "code",
      "source": [
        "from gensim.models.callbacks import CallbackAny2Vec\n"
      ],
      "metadata": {
        "id": "HtAjHWYB28mn"
      },
      "execution_count": 7,
      "outputs": []
    },
    {
      "cell_type": "code",
      "source": [
        "class TqdmProgressCallback(CallbackAny2Vec):\n",
        "    def __init__(self, epochs):\n",
        "        self.epoch_pbar = tqdm(total=epochs, desc=\"Training Epochs\", unit=\"epoch\")\n",
        "        self.epoch_losses = []\n",
        "\n",
        "    def on_epoch_end(self, model):\n",
        "        loss = model.get_latest_training_loss()\n",
        "        if len(self.epoch_losses) > 0:\n",
        "            delta_loss = loss - self.epoch_losses[-1]\n",
        "        else:\n",
        "            delta_loss = loss\n",
        "        self.epoch_losses.append(loss)\n",
        "\n",
        "        self.epoch_pbar.update(1)\n",
        "        self.epoch_pbar.set_postfix({\n",
        "            \"delta_loss\": f\"{delta_loss:.2f}\",\n",
        "            \"total_loss\": f\"{loss:.2f}\"\n",
        "        })\n",
        "\n",
        "    def on_train_end(self, model):\n",
        "        self.epoch_pbar.close()"
      ],
      "metadata": {
        "id": "qi3mJXhk2ZF-"
      },
      "execution_count": 8,
      "outputs": []
    },
    {
      "cell_type": "code",
      "source": [
        "print(\"\\n2. Word2Vec Training...\")\n",
        "epochs = 20\n",
        "progress_callback = TqdmProgressCallback(epochs)\n",
        "\n",
        "w2v = Word2Vec(\n",
        "    sentences=X,\n",
        "    vector_size=300,\n",
        "    window=7,\n",
        "    min_count=3,\n",
        "    workers=4,\n",
        "    epochs=epochs,\n",
        "    sg=1,\n",
        "    hs=0,\n",
        "    negative=10,\n",
        "    compute_loss=True,\n",
        "    callbacks=[progress_callback]  # Attach the callback\n",
        ")\n",
        "\n",
        "print(f\"\\nVocab size: {len(w2v.wv)} | Final loss: {w2v.get_latest_training_loss():.2f}\")"
      ],
      "metadata": {
        "colab": {
          "base_uri": "https://localhost:8080/",
          "height": 118,
          "referenced_widgets": [
            "1398a267b4ed4bb6898d61e1b0f6b444",
            "e5cda2b3a63b4e3e88bbe109032f2ca6",
            "60b57c87391e45d7bfc327b8cb21eb53",
            "ff3933cc358d4ca2ae2f984509c3f002",
            "36dbe4564c91439a945a0569c49bc76e",
            "b1eef21d22894bc691befee9d44e816e",
            "7199a633684244968c331924f736b1a8",
            "6ebd6bbabc014016b5e0b599543fd47b",
            "f5aac2013bca494dabd5944d7103992a",
            "30914195a61c4033bd0a3f5508c1e111",
            "995ef8afa0d8472c9a89b491eae9422b"
          ]
        },
        "id": "zZcfse2-3Adi",
        "outputId": "58410cf8-9744-409a-d818-1499b2be4d6b"
      },
      "execution_count": 9,
      "outputs": [
        {
          "output_type": "stream",
          "name": "stdout",
          "text": [
            "\n",
            "2. Word2Vec Training...\n"
          ]
        },
        {
          "output_type": "display_data",
          "data": {
            "text/plain": [
              "Training Epochs:   0%|          | 0/20 [00:00<?, ?epoch/s]"
            ],
            "application/vnd.jupyter.widget-view+json": {
              "version_major": 2,
              "version_minor": 0,
              "model_id": "1398a267b4ed4bb6898d61e1b0f6b444"
            }
          },
          "metadata": {}
        },
        {
          "output_type": "stream",
          "name": "stdout",
          "text": [
            "\n",
            "Vocab size: 32067 | Final loss: 86382608.00\n"
          ]
        }
      ]
    },
    {
      "cell_type": "code",
      "source": [
        "# 3. Document Vectorization\n",
        "print(\"\\n3. Vectorization...\")\n",
        "def document_vector(tokens):\n",
        "    vectors = []\n",
        "    for word in tokens:\n",
        "        if word in w2v.wv:\n",
        "            weight = np.log(1 + w2v.wv.get_vecattr(word, 'count'))\n",
        "            vectors.append(w2v.wv[word] * weight)\n",
        "    return np.mean(vectors, axis=0) if vectors else np.zeros(w2v.vector_size)\n",
        "\n",
        "# Process with parallelization and progress bar\n",
        "X_vec = np.array([document_vector(doc) for doc in tqdm(X, desc=\"Vectorizing Docs\")])"
      ],
      "metadata": {
        "colab": {
          "base_uri": "https://localhost:8080/",
          "height": 84,
          "referenced_widgets": [
            "8064c5ce575046b7a43ae13f0d7232ef",
            "0d6b4bf300754318b3d86282ef9dae21",
            "f01df7230d0b416fb53860aaa990c3ee",
            "51267bd014ef4fb0a759df1ac79a354c",
            "cbfffc0ef2934ae3b1cd0cc9c6313033",
            "b12e306fc858476899f2587d0fbbba6a",
            "217c244f4990441abe872b1ebc53e430",
            "f260449b95724e998c9fe83cc87b912d",
            "bf05725c45664fd5aaf6744d17616633",
            "43c50a1f1b984c3c83587cea252868f7",
            "917a710dfc9a43658974fce9c837f90a"
          ]
        },
        "id": "gH0HFceU2nKf",
        "outputId": "a02cec8b-1c79-4632-e776-989489aa872f"
      },
      "execution_count": 10,
      "outputs": [
        {
          "output_type": "stream",
          "name": "stdout",
          "text": [
            "\n",
            "3. Vectorization...\n"
          ]
        },
        {
          "output_type": "display_data",
          "data": {
            "text/plain": [
              "Vectorizing Docs:   0%|          | 0/50000 [00:00<?, ?it/s]"
            ],
            "application/vnd.jupyter.widget-view+json": {
              "version_major": 2,
              "version_minor": 0,
              "model_id": "8064c5ce575046b7a43ae13f0d7232ef"
            }
          },
          "metadata": {}
        }
      ]
    },
    {
      "cell_type": "code",
      "source": [
        "print(\"\\n4. Building Pipeline...\")\n",
        "pipeline = Pipeline([\n",
        "    ('scaler', StandardScaler()),\n",
        "    ('xgb', XGBClassifier(\n",
        "        n_jobs=4,\n",
        "        tree_method='hist',\n",
        "        enable_categorical=True,\n",
        "        eval_metric='logloss'\n",
        "    ))\n",
        "])\n"
      ],
      "metadata": {
        "colab": {
          "base_uri": "https://localhost:8080/"
        },
        "id": "cSWvLsbH7xd-",
        "outputId": "7f4b78c1-2e29-4b16-c62b-c2bcfaa7e107"
      },
      "execution_count": 11,
      "outputs": [
        {
          "output_type": "stream",
          "name": "stdout",
          "text": [
            "\n",
            "4. Building Pipeline...\n"
          ]
        }
      ]
    },
    {
      "cell_type": "code",
      "source": [
        "def update_progress(iteration, pbar, random_search):\n",
        "    pbar.update(1)\n",
        "    if iteration % 5 == 0:  # Update stats every 5 iterations\n",
        "        current_best = random_search.cv_results_['mean_test_score'].max()\n",
        "        pbar.set_postfix({'best_f1': f\"{current_best:.4f}\"})"
      ],
      "metadata": {
        "id": "_YR3S8B-8axy"
      },
      "execution_count": 24,
      "outputs": []
    },
    {
      "cell_type": "code",
      "source": [
        "def run_randomized_search(pipeline, X, y):\n",
        "    skf = StratifiedKFold(n_splits=3, shuffle=True, random_state=42)\n",
        "\n",
        "    param_dist = {\n",
        "        'xgb__max_depth': np.arange(3, 8),\n",
        "        'xgb__learning_rate': np.logspace(-3, -1, 100),\n",
        "        'xgb__subsample': np.linspace(0.5, 1.0, 6),\n",
        "        'xgb__colsample_bytree': np.linspace(0.5, 1.0, 6)\n",
        "    }\n",
        "\n",
        "    n_iter = 50\n",
        "    pbar = tqdm(total=n_iter, desc=\"Randomized Search\")\n",
        "\n",
        "    # joblib callback ile bar güncelleme\n",
        "    def tqdm_callback(*args, **kwargs):\n",
        "        pbar.update()\n",
        "\n",
        "    with joblib.parallel_backend('loky'):\n",
        "        random_search = RandomizedSearchCV(\n",
        "            estimator=pipeline,\n",
        "            param_distributions=param_dist,\n",
        "            n_iter=n_iter,\n",
        "            cv=skf,\n",
        "            scoring='f1_weighted',\n",
        "            verbose=0,\n",
        "            n_jobs=2,\n",
        "            random_state=42\n",
        "        )\n",
        "        # joblib için callback\n",
        "        joblib.parallel.register_parallel_backend('tqdm', lambda *args, **kwargs: joblib.parallel.Parallel(*args, **kwargs, batch_completion_call_back=tqdm_callback))\n",
        "        random_search.fit(X, y)\n",
        "\n",
        "    pbar.close()\n",
        "    return random_search"
      ],
      "metadata": {
        "id": "nst52T5d-Iag"
      },
      "execution_count": 28,
      "outputs": []
    },
    {
      "cell_type": "code",
      "source": [
        "X_train, X_test, y_train, y_test = train_test_split(\n",
        "    X_vec, y, test_size=0.2, random_state=42, stratify=y\n",
        ")"
      ],
      "metadata": {
        "id": "oYEuuxNeDQWT"
      },
      "execution_count": 31,
      "outputs": []
    },
    {
      "cell_type": "code",
      "source": [
        "random_search = run_randomized_search(pipeline, X_train, y_train)"
      ],
      "metadata": {
        "colab": {
          "base_uri": "https://localhost:8080/",
          "height": 49,
          "referenced_widgets": [
            "f320c9a8133c405680d5ab9fd3222ac4",
            "cbc0d68f515242299a3a96e6d0041b4b",
            "5871b174b8104b7bbfbadb24146095e5",
            "90fabbbae318402c8b0af69c99286572",
            "17c85e2f1fcf49a598cc8223841336d8",
            "6a0e80f2f7bb41e78da6c13d606ad689",
            "178c215f9d4344fe967b9273c59a1b92",
            "bc6cd7d817644a759a193603d9cb0955",
            "f6eed57bf9b243fea0f2ffe10acf90eb",
            "1e3a208e4b5d4085b50375351b7e15ec",
            "32d3bf441e0e4167b10df8923a69851b"
          ]
        },
        "id": "0RcQX1xV8ffU",
        "outputId": "aae6516e-e4fe-4fea-c2d5-2a7b4736d32f"
      },
      "execution_count": 32,
      "outputs": [
        {
          "output_type": "display_data",
          "data": {
            "text/plain": [
              "Randomized Search:   0%|          | 0/50 [00:00<?, ?it/s]"
            ],
            "application/vnd.jupyter.widget-view+json": {
              "version_major": 2,
              "version_minor": 0,
              "model_id": "f320c9a8133c405680d5ab9fd3222ac4"
            }
          },
          "metadata": {}
        }
      ]
    },
    {
      "cell_type": "code",
      "source": [
        "print(\"\\nBest Parameters:\", random_search.best_params_)\n",
        "print(\"Best F1 Score: {:.4f}\".format(random_search.best_score_))"
      ],
      "metadata": {
        "colab": {
          "base_uri": "https://localhost:8080/"
        },
        "id": "VHH_RVzS9U1s",
        "outputId": "2c9bdfa2-cda3-49f6-fee2-de60d00998c6"
      },
      "execution_count": 33,
      "outputs": [
        {
          "output_type": "stream",
          "name": "stdout",
          "text": [
            "\n",
            "Best Parameters: {'xgb__subsample': 0.5, 'xgb__max_depth': 7, 'xgb__learning_rate': 0.09545484566618342, 'xgb__colsample_bytree': 0.8}\n",
            "Best F1 Score: 0.8647\n"
          ]
        }
      ]
    },
    {
      "cell_type": "code",
      "source": [
        "best_model = random_search.best_estimator_"
      ],
      "metadata": {
        "id": "z3UTwNj1Mges"
      },
      "execution_count": 35,
      "outputs": []
    },
    {
      "cell_type": "code",
      "source": [
        "from sklearn.metrics import classification_report, accuracy_score\n"
      ],
      "metadata": {
        "id": "V_HrOvcS_9Lm"
      },
      "execution_count": 34,
      "outputs": []
    },
    {
      "cell_type": "code",
      "source": [
        "y_pred = best_model.predict(X_test)\n",
        "\n",
        "\n",
        "print(\"\\nClassification Report:\")\n",
        "print(classification_report(y_test, y_pred))\n",
        "print(f\"\\nTest Set Accuracy: {accuracy_score(y_test, y_pred):.4f}\")"
      ],
      "metadata": {
        "colab": {
          "base_uri": "https://localhost:8080/"
        },
        "id": "abcr38wcMavm",
        "outputId": "b3f99644-1378-40c5-8a38-002e4aa8fb3c"
      },
      "execution_count": 38,
      "outputs": [
        {
          "output_type": "stream",
          "name": "stdout",
          "text": [
            "\n",
            "Classification Report:\n",
            "              precision    recall  f1-score   support\n",
            "\n",
            "           0       0.87      0.86      0.86      5000\n",
            "           1       0.86      0.87      0.87      5000\n",
            "\n",
            "    accuracy                           0.87     10000\n",
            "   macro avg       0.87      0.87      0.87     10000\n",
            "weighted avg       0.87      0.87      0.87     10000\n",
            "\n",
            "\n",
            "Test Set Accuracy: 0.8655\n"
          ]
        }
      ]
    },
    {
      "cell_type": "code",
      "source": [
        "y_test"
      ],
      "metadata": {
        "colab": {
          "base_uri": "https://localhost:8080/",
          "height": 458
        },
        "id": "IYKKZgN-MqYS",
        "outputId": "d8cff32b-f549-4290-a56e-375590072800"
      },
      "execution_count": 39,
      "outputs": [
        {
          "output_type": "execute_result",
          "data": {
            "text/plain": [
              "18870    0\n",
              "39791    0\n",
              "30381    1\n",
              "42294    0\n",
              "33480    0\n",
              "        ..\n",
              "3634     0\n",
              "47910    0\n",
              "16086    0\n",
              "48294    1\n",
              "4478     0\n",
              "Name: sentiment, Length: 10000, dtype: int64"
            ],
            "text/html": [
              "<div>\n",
              "<style scoped>\n",
              "    .dataframe tbody tr th:only-of-type {\n",
              "        vertical-align: middle;\n",
              "    }\n",
              "\n",
              "    .dataframe tbody tr th {\n",
              "        vertical-align: top;\n",
              "    }\n",
              "\n",
              "    .dataframe thead th {\n",
              "        text-align: right;\n",
              "    }\n",
              "</style>\n",
              "<table border=\"1\" class=\"dataframe\">\n",
              "  <thead>\n",
              "    <tr style=\"text-align: right;\">\n",
              "      <th></th>\n",
              "      <th>sentiment</th>\n",
              "    </tr>\n",
              "  </thead>\n",
              "  <tbody>\n",
              "    <tr>\n",
              "      <th>18870</th>\n",
              "      <td>0</td>\n",
              "    </tr>\n",
              "    <tr>\n",
              "      <th>39791</th>\n",
              "      <td>0</td>\n",
              "    </tr>\n",
              "    <tr>\n",
              "      <th>30381</th>\n",
              "      <td>1</td>\n",
              "    </tr>\n",
              "    <tr>\n",
              "      <th>42294</th>\n",
              "      <td>0</td>\n",
              "    </tr>\n",
              "    <tr>\n",
              "      <th>33480</th>\n",
              "      <td>0</td>\n",
              "    </tr>\n",
              "    <tr>\n",
              "      <th>...</th>\n",
              "      <td>...</td>\n",
              "    </tr>\n",
              "    <tr>\n",
              "      <th>3634</th>\n",
              "      <td>0</td>\n",
              "    </tr>\n",
              "    <tr>\n",
              "      <th>47910</th>\n",
              "      <td>0</td>\n",
              "    </tr>\n",
              "    <tr>\n",
              "      <th>16086</th>\n",
              "      <td>0</td>\n",
              "    </tr>\n",
              "    <tr>\n",
              "      <th>48294</th>\n",
              "      <td>1</td>\n",
              "    </tr>\n",
              "    <tr>\n",
              "      <th>4478</th>\n",
              "      <td>0</td>\n",
              "    </tr>\n",
              "  </tbody>\n",
              "</table>\n",
              "<p>10000 rows × 1 columns</p>\n",
              "</div><br><label><b>dtype:</b> int64</label>"
            ]
          },
          "metadata": {},
          "execution_count": 39
        }
      ]
    }
  ]
}